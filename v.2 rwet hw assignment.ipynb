{
 "cells": [
  {
   "cell_type": "code",
   "execution_count": 10,
   "metadata": {},
   "outputs": [],
   "source": [
    "import random\n",
    "\n",
    "philosophy = open(\"philosophy.txt\").read().split(\"\\n\")\n",
    "saturn = open(\"saturn.txt\").read().split(\"\\n\")"
   ]
  },
  {
   "cell_type": "code",
   "execution_count": 11,
   "metadata": {},
   "outputs": [],
   "source": [
    "saturn_planets = [item for item in saturn if 'planets' in item]\n",
    "philosophy_evolution = [item for item in philosophy if 'evolution' in item]"
   ]
  },
  {
   "cell_type": "code",
   "execution_count": 12,
   "metadata": {},
   "outputs": [
    {
     "name": "stdout",
     "output_type": "stream",
     "text": [
      "['and Neptune, planets even more remote from Earth and about which we know', 'In the Sun’s necklace of planets, one gem far outshines the rest:', 'Jupiter. Larger than all the other planets and satellites combined,', 'Jupiter is a true giant. If intelligent beings exist on planets circling', 'from Jupiter. But all the other planets—including tiny inconspicuous', 'Jupiter is outstanding among planets not only for its size, but also for', 'Jupiter was far from Earth and to speed up when the two planets were', 'not just a big brother of Earth and the other rocky planets in the inner', 'planets Jupiter, Saturn, Uranus, and Neptune. These giant planets must,']\n"
     ]
    }
   ],
   "source": [
    "print(saturn_planets)"
   ]
  },
  {
   "cell_type": "code",
   "execution_count": 13,
   "metadata": {},
   "outputs": [
    {
     "name": "stdout",
     "output_type": "stream",
     "text": [
      "['thought, then, begins its evolution with the general and proceeds to the', 'it. If then we find the chain of evolution broken at any point, science', 'as it means anything, means evolution of some sort. Finding the relation', 'the law of apparent evolution--is the problem presented to science.', 'would it be asserted that any physical evolution had taken place--the', 'evolution. Take, for instance, a series of animals, presenting at one', 'by itself apart from either term. The steps in the logical evolution of', 'Here, then, is evolution, or development: primarily an evolution of the', 'secondly, an apparent physical evolution or development, interpreting', 'apparent physical evolution--that is, the process of evolution logically', 'successive steps in this logical evolution must be revealed by material', 'evolution, for whatever is material is only symbolical.', 'other by a process of evolution, because all the essential attributes of', 'conception. There can, then, be physical evolution, only as there is', 'antecedent logical evolution, and then only because of this logical', 'evolution and not because of the operation of an innate organic force.', 'another by evolution, or has produced it at all. If there are agreements', 'evolution of what was potentially present in the cause; it cannot add to', 'towards the concrete and individual, we find a constant evolution of', 'development or evolution must, therefore, be the condition of the', 'forms is what is called evolution. If no evolution were apparent in', 'naturalist indicate evolution, being only the physical expression--the', 'evolution, and not by physical genesis; they represent an evolution of', 'Thought and not an evolution of Matter. We know from consciousness that', 'this process of evolution is the method of our thinking. We know also', 'about us, and which present this appearance of evolution, we infer that', 'hypothesis of physical evolution, but it must confine its attention to']\n"
     ]
    }
   ],
   "source": [
    "print(philosophy_evolution)"
   ]
  },
  {
   "cell_type": "code",
   "execution_count": 16,
   "metadata": {},
   "outputs": [
    {
     "name": "stdout",
     "output_type": "stream",
     "text": [
      "evolution of what was potentially present in the cause; it cannot add to\n",
      "Jupiter. Larger than all the other planets and satellites combined,\n",
      "about us, and which present this appearance of evolution, we infer that\n",
      "Thought and not an evolution of Matter. We know from consciousness that\n",
      "conception. There can, then, be physical evolution, only as there is\n",
      "about us, and which present this appearance of evolution, we infer that\n",
      "successive steps in this logical evolution must be revealed by material\n",
      "naturalist indicate evolution, being only the physical expression--the\n",
      "evolution, for whatever is material is only symbolical.\n",
      "Jupiter is outstanding among planets not only for its size, but also for\n"
     ]
    }
   ],
   "source": [
    "for i in range(10):\n",
    "    print(random.choice(saturn_planets + philosophy_evolution))"
   ]
  }
 ],
 "metadata": {
  "kernelspec": {
   "display_name": "Python 3",
   "language": "python",
   "name": "python3"
  },
  "language_info": {
   "codemirror_mode": {
    "name": "ipython",
    "version": 3
   },
   "file_extension": ".py",
   "mimetype": "text/x-python",
   "name": "python",
   "nbconvert_exporter": "python",
   "pygments_lexer": "ipython3",
   "version": "3.6.5"
  }
 },
 "nbformat": 4,
 "nbformat_minor": 2
}
